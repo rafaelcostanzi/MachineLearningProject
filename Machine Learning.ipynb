{
 "cells": [
  {
   "cell_type": "code",
   "execution_count": 7,
   "metadata": {},
   "outputs": [],
   "source": [
    "from __future__ import print_function\n",
    "import numpy as np\n",
    "import matplotlib.pyplot as plt\n",
    "import pandas as pd\n",
    "import imblearn\n",
    "from sklearn.preprocessing import LabelEncoder\n",
    "from sklearn.preprocessing import StandardScaler\n",
    "from sklearn.model_selection import train_test_split\n",
    "from sklearn.model_selection import cross_val_score\n",
    "from sklearn.model_selection import StratifiedKFold\n",
    "from sklearn.feature_selection import SelectKBest, RFECV, mutual_info_classif, mutual_info_regression, SelectPercentile\n",
    "from sklearn.decomposition import PCA\n",
    "from sklearn.linear_model import LogisticRegression\n",
    "from sklearn.tree import DecisionTreeClassifier\n",
    "from sklearn.neighbors import KNeighborsClassifier\n",
    "from sklearn.naive_bayes import GaussianNB\n",
    "from sklearn import svm\n",
    "from sklearn.discriminant_analysis import LinearDiscriminantAnalysis as LDA\n",
    "from sklearn.linear_model import LogisticRegression\n",
    "from sklearn.discriminant_analysis import LinearDiscriminantAnalysis\n",
    "from sklearn.ensemble import ExtraTreesClassifier\n",
    "import sys\n",
    "import cv2 as cv\n",
    "\n",
    "from sklearn.metrics import confusion_matrix, accuracy_score, classification_report\n",
    "import seaborn as sn\n",
    "\n",
    "\n",
    "import warnings; warnings.simplefilter('ignore')\n",
    "\n",
    "%matplotlib inline\n"
   ]
  },
  {
   "cell_type": "code",
   "execution_count": 8,
   "metadata": {},
   "outputs": [],
   "source": [
    "def plot_2d_space(X, y, label='Classes'):   \n",
    "    colors = ['#1F77B4', '#FF7F0E']\n",
    "    markers = ['o', 's']\n",
    "    for l, c, m in zip(np.unique(y), colors, markers):\n",
    "        plt.scatter(\n",
    "            X[y==l, 0],\n",
    "            X[y==l, 1],\n",
    "            c=c, label=l, marker=m\n",
    "        )\n",
    "    plt.title(label)\n",
    "    plt.legend(loc='upper right')\n",
    "    plt.show()"
   ]
  },
  {
   "cell_type": "markdown",
   "metadata": {},
   "source": [
    "# Data Preprocessing\n",
    "Introduce the Data¶\n",
    "\n",
    "Task: Given EEG series, predict wheiter they have Epileptic-Seizure or not"
   ]
  },
  {
   "cell_type": "code",
   "execution_count": 9,
   "metadata": {},
   "outputs": [
    {
     "data": {
      "text/html": [
       "<div>\n",
       "<style scoped>\n",
       "    .dataframe tbody tr th:only-of-type {\n",
       "        vertical-align: middle;\n",
       "    }\n",
       "\n",
       "    .dataframe tbody tr th {\n",
       "        vertical-align: top;\n",
       "    }\n",
       "\n",
       "    .dataframe thead th {\n",
       "        text-align: right;\n",
       "    }\n",
       "</style>\n",
       "<table border=\"1\" class=\"dataframe\">\n",
       "  <thead>\n",
       "    <tr style=\"text-align: right;\">\n",
       "      <th></th>\n",
       "      <th>Unnamed: 0</th>\n",
       "      <th>X1</th>\n",
       "      <th>X2</th>\n",
       "      <th>X3</th>\n",
       "      <th>X4</th>\n",
       "      <th>X5</th>\n",
       "      <th>X6</th>\n",
       "      <th>X7</th>\n",
       "      <th>X8</th>\n",
       "      <th>X9</th>\n",
       "      <th>...</th>\n",
       "      <th>X170</th>\n",
       "      <th>X171</th>\n",
       "      <th>X172</th>\n",
       "      <th>X173</th>\n",
       "      <th>X174</th>\n",
       "      <th>X175</th>\n",
       "      <th>X176</th>\n",
       "      <th>X177</th>\n",
       "      <th>X178</th>\n",
       "      <th>y</th>\n",
       "    </tr>\n",
       "  </thead>\n",
       "  <tbody>\n",
       "    <tr>\n",
       "      <th>0</th>\n",
       "      <td>X21.V1.791</td>\n",
       "      <td>135</td>\n",
       "      <td>190</td>\n",
       "      <td>229</td>\n",
       "      <td>223</td>\n",
       "      <td>192</td>\n",
       "      <td>125</td>\n",
       "      <td>55</td>\n",
       "      <td>-9</td>\n",
       "      <td>-33</td>\n",
       "      <td>...</td>\n",
       "      <td>-17</td>\n",
       "      <td>-15</td>\n",
       "      <td>-31</td>\n",
       "      <td>-77</td>\n",
       "      <td>-103</td>\n",
       "      <td>-127</td>\n",
       "      <td>-116</td>\n",
       "      <td>-83</td>\n",
       "      <td>-51</td>\n",
       "      <td>4</td>\n",
       "    </tr>\n",
       "    <tr>\n",
       "      <th>1</th>\n",
       "      <td>X15.V1.924</td>\n",
       "      <td>386</td>\n",
       "      <td>382</td>\n",
       "      <td>356</td>\n",
       "      <td>331</td>\n",
       "      <td>320</td>\n",
       "      <td>315</td>\n",
       "      <td>307</td>\n",
       "      <td>272</td>\n",
       "      <td>244</td>\n",
       "      <td>...</td>\n",
       "      <td>164</td>\n",
       "      <td>150</td>\n",
       "      <td>146</td>\n",
       "      <td>152</td>\n",
       "      <td>157</td>\n",
       "      <td>156</td>\n",
       "      <td>154</td>\n",
       "      <td>143</td>\n",
       "      <td>129</td>\n",
       "      <td>1</td>\n",
       "    </tr>\n",
       "    <tr>\n",
       "      <th>2</th>\n",
       "      <td>X8.V1.1</td>\n",
       "      <td>-32</td>\n",
       "      <td>-39</td>\n",
       "      <td>-47</td>\n",
       "      <td>-37</td>\n",
       "      <td>-32</td>\n",
       "      <td>-36</td>\n",
       "      <td>-57</td>\n",
       "      <td>-73</td>\n",
       "      <td>-85</td>\n",
       "      <td>...</td>\n",
       "      <td>57</td>\n",
       "      <td>64</td>\n",
       "      <td>48</td>\n",
       "      <td>19</td>\n",
       "      <td>-12</td>\n",
       "      <td>-30</td>\n",
       "      <td>-35</td>\n",
       "      <td>-35</td>\n",
       "      <td>-36</td>\n",
       "      <td>5</td>\n",
       "    </tr>\n",
       "    <tr>\n",
       "      <th>3</th>\n",
       "      <td>X16.V1.60</td>\n",
       "      <td>-105</td>\n",
       "      <td>-101</td>\n",
       "      <td>-96</td>\n",
       "      <td>-92</td>\n",
       "      <td>-89</td>\n",
       "      <td>-95</td>\n",
       "      <td>-102</td>\n",
       "      <td>-100</td>\n",
       "      <td>-87</td>\n",
       "      <td>...</td>\n",
       "      <td>-82</td>\n",
       "      <td>-81</td>\n",
       "      <td>-80</td>\n",
       "      <td>-77</td>\n",
       "      <td>-85</td>\n",
       "      <td>-77</td>\n",
       "      <td>-72</td>\n",
       "      <td>-69</td>\n",
       "      <td>-65</td>\n",
       "      <td>5</td>\n",
       "    </tr>\n",
       "    <tr>\n",
       "      <th>4</th>\n",
       "      <td>X20.V1.54</td>\n",
       "      <td>-9</td>\n",
       "      <td>-65</td>\n",
       "      <td>-98</td>\n",
       "      <td>-102</td>\n",
       "      <td>-78</td>\n",
       "      <td>-48</td>\n",
       "      <td>-16</td>\n",
       "      <td>0</td>\n",
       "      <td>-21</td>\n",
       "      <td>...</td>\n",
       "      <td>4</td>\n",
       "      <td>2</td>\n",
       "      <td>-12</td>\n",
       "      <td>-32</td>\n",
       "      <td>-41</td>\n",
       "      <td>-65</td>\n",
       "      <td>-83</td>\n",
       "      <td>-89</td>\n",
       "      <td>-73</td>\n",
       "      <td>5</td>\n",
       "    </tr>\n",
       "  </tbody>\n",
       "</table>\n",
       "<p>5 rows × 180 columns</p>\n",
       "</div>"
      ],
      "text/plain": [
       "   Unnamed: 0   X1   X2   X3   X4   X5   X6   X7   X8   X9  ...  X170  X171  \\\n",
       "0  X21.V1.791  135  190  229  223  192  125   55   -9  -33  ...   -17   -15   \n",
       "1  X15.V1.924  386  382  356  331  320  315  307  272  244  ...   164   150   \n",
       "2     X8.V1.1  -32  -39  -47  -37  -32  -36  -57  -73  -85  ...    57    64   \n",
       "3   X16.V1.60 -105 -101  -96  -92  -89  -95 -102 -100  -87  ...   -82   -81   \n",
       "4   X20.V1.54   -9  -65  -98 -102  -78  -48  -16    0  -21  ...     4     2   \n",
       "\n",
       "   X172  X173  X174  X175  X176  X177  X178  y  \n",
       "0   -31   -77  -103  -127  -116   -83   -51  4  \n",
       "1   146   152   157   156   154   143   129  1  \n",
       "2    48    19   -12   -30   -35   -35   -36  5  \n",
       "3   -80   -77   -85   -77   -72   -69   -65  5  \n",
       "4   -12   -32   -41   -65   -83   -89   -73  5  \n",
       "\n",
       "[5 rows x 180 columns]"
      ]
     },
     "execution_count": 9,
     "metadata": {},
     "output_type": "execute_result"
    }
   ],
   "source": [
    "df = pd.read_csv('data.csv')\n",
    "\n",
    "df.head()"
   ]
  },
  {
   "cell_type": "markdown",
   "metadata": {},
   "source": [
    "Binary Classification"
   ]
  },
  {
   "cell_type": "code",
   "execution_count": 10,
   "metadata": {},
   "outputs": [
    {
     "data": {
      "text/html": [
       "<div>\n",
       "<style scoped>\n",
       "    .dataframe tbody tr th:only-of-type {\n",
       "        vertical-align: middle;\n",
       "    }\n",
       "\n",
       "    .dataframe tbody tr th {\n",
       "        vertical-align: top;\n",
       "    }\n",
       "\n",
       "    .dataframe thead th {\n",
       "        text-align: right;\n",
       "    }\n",
       "</style>\n",
       "<table border=\"1\" class=\"dataframe\">\n",
       "  <thead>\n",
       "    <tr style=\"text-align: right;\">\n",
       "      <th></th>\n",
       "      <th>Unnamed: 0</th>\n",
       "      <th>X1</th>\n",
       "      <th>X2</th>\n",
       "      <th>X3</th>\n",
       "      <th>X4</th>\n",
       "      <th>X5</th>\n",
       "      <th>X6</th>\n",
       "      <th>X7</th>\n",
       "      <th>X8</th>\n",
       "      <th>X9</th>\n",
       "      <th>...</th>\n",
       "      <th>X170</th>\n",
       "      <th>X171</th>\n",
       "      <th>X172</th>\n",
       "      <th>X173</th>\n",
       "      <th>X174</th>\n",
       "      <th>X175</th>\n",
       "      <th>X176</th>\n",
       "      <th>X177</th>\n",
       "      <th>X178</th>\n",
       "      <th>y</th>\n",
       "    </tr>\n",
       "  </thead>\n",
       "  <tbody>\n",
       "    <tr>\n",
       "      <th>0</th>\n",
       "      <td>X21.V1.791</td>\n",
       "      <td>135</td>\n",
       "      <td>190</td>\n",
       "      <td>229</td>\n",
       "      <td>223</td>\n",
       "      <td>192</td>\n",
       "      <td>125</td>\n",
       "      <td>55</td>\n",
       "      <td>-9</td>\n",
       "      <td>-33</td>\n",
       "      <td>...</td>\n",
       "      <td>-17</td>\n",
       "      <td>-15</td>\n",
       "      <td>-31</td>\n",
       "      <td>-77</td>\n",
       "      <td>-103</td>\n",
       "      <td>-127</td>\n",
       "      <td>-116</td>\n",
       "      <td>-83</td>\n",
       "      <td>-51</td>\n",
       "      <td>0</td>\n",
       "    </tr>\n",
       "    <tr>\n",
       "      <th>1</th>\n",
       "      <td>X15.V1.924</td>\n",
       "      <td>386</td>\n",
       "      <td>382</td>\n",
       "      <td>356</td>\n",
       "      <td>331</td>\n",
       "      <td>320</td>\n",
       "      <td>315</td>\n",
       "      <td>307</td>\n",
       "      <td>272</td>\n",
       "      <td>244</td>\n",
       "      <td>...</td>\n",
       "      <td>164</td>\n",
       "      <td>150</td>\n",
       "      <td>146</td>\n",
       "      <td>152</td>\n",
       "      <td>157</td>\n",
       "      <td>156</td>\n",
       "      <td>154</td>\n",
       "      <td>143</td>\n",
       "      <td>129</td>\n",
       "      <td>1</td>\n",
       "    </tr>\n",
       "    <tr>\n",
       "      <th>2</th>\n",
       "      <td>X8.V1.1</td>\n",
       "      <td>-32</td>\n",
       "      <td>-39</td>\n",
       "      <td>-47</td>\n",
       "      <td>-37</td>\n",
       "      <td>-32</td>\n",
       "      <td>-36</td>\n",
       "      <td>-57</td>\n",
       "      <td>-73</td>\n",
       "      <td>-85</td>\n",
       "      <td>...</td>\n",
       "      <td>57</td>\n",
       "      <td>64</td>\n",
       "      <td>48</td>\n",
       "      <td>19</td>\n",
       "      <td>-12</td>\n",
       "      <td>-30</td>\n",
       "      <td>-35</td>\n",
       "      <td>-35</td>\n",
       "      <td>-36</td>\n",
       "      <td>0</td>\n",
       "    </tr>\n",
       "    <tr>\n",
       "      <th>3</th>\n",
       "      <td>X16.V1.60</td>\n",
       "      <td>-105</td>\n",
       "      <td>-101</td>\n",
       "      <td>-96</td>\n",
       "      <td>-92</td>\n",
       "      <td>-89</td>\n",
       "      <td>-95</td>\n",
       "      <td>-102</td>\n",
       "      <td>-100</td>\n",
       "      <td>-87</td>\n",
       "      <td>...</td>\n",
       "      <td>-82</td>\n",
       "      <td>-81</td>\n",
       "      <td>-80</td>\n",
       "      <td>-77</td>\n",
       "      <td>-85</td>\n",
       "      <td>-77</td>\n",
       "      <td>-72</td>\n",
       "      <td>-69</td>\n",
       "      <td>-65</td>\n",
       "      <td>0</td>\n",
       "    </tr>\n",
       "    <tr>\n",
       "      <th>4</th>\n",
       "      <td>X20.V1.54</td>\n",
       "      <td>-9</td>\n",
       "      <td>-65</td>\n",
       "      <td>-98</td>\n",
       "      <td>-102</td>\n",
       "      <td>-78</td>\n",
       "      <td>-48</td>\n",
       "      <td>-16</td>\n",
       "      <td>0</td>\n",
       "      <td>-21</td>\n",
       "      <td>...</td>\n",
       "      <td>4</td>\n",
       "      <td>2</td>\n",
       "      <td>-12</td>\n",
       "      <td>-32</td>\n",
       "      <td>-41</td>\n",
       "      <td>-65</td>\n",
       "      <td>-83</td>\n",
       "      <td>-89</td>\n",
       "      <td>-73</td>\n",
       "      <td>0</td>\n",
       "    </tr>\n",
       "  </tbody>\n",
       "</table>\n",
       "<p>5 rows × 180 columns</p>\n",
       "</div>"
      ],
      "text/plain": [
       "   Unnamed: 0   X1   X2   X3   X4   X5   X6   X7   X8   X9  ...  X170  X171  \\\n",
       "0  X21.V1.791  135  190  229  223  192  125   55   -9  -33  ...   -17   -15   \n",
       "1  X15.V1.924  386  382  356  331  320  315  307  272  244  ...   164   150   \n",
       "2     X8.V1.1  -32  -39  -47  -37  -32  -36  -57  -73  -85  ...    57    64   \n",
       "3   X16.V1.60 -105 -101  -96  -92  -89  -95 -102 -100  -87  ...   -82   -81   \n",
       "4   X20.V1.54   -9  -65  -98 -102  -78  -48  -16    0  -21  ...     4     2   \n",
       "\n",
       "   X172  X173  X174  X175  X176  X177  X178  y  \n",
       "0   -31   -77  -103  -127  -116   -83   -51  0  \n",
       "1   146   152   157   156   154   143   129  1  \n",
       "2    48    19   -12   -30   -35   -35   -36  0  \n",
       "3   -80   -77   -85   -77   -72   -69   -65  0  \n",
       "4   -12   -32   -41   -65   -83   -89   -73  0  \n",
       "\n",
       "[5 rows x 180 columns]"
      ]
     },
     "execution_count": 10,
     "metadata": {},
     "output_type": "execute_result"
    }
   ],
   "source": [
    "cols = df.columns\n",
    "outcome = df.y\n",
    "outcome[outcome>1]=0\n",
    "df.head()"
   ]
  },
  {
   "cell_type": "markdown",
   "metadata": {},
   "source": [
    "Outcome Plot"
   ]
  },
  {
   "cell_type": "code",
   "execution_count": 11,
   "metadata": {},
   "outputs": [
    {
     "name": "stdout",
     "output_type": "stream",
     "text": [
      "O número de testes para a classe sem crises é: 9200\n",
      "O número de testes para a classe com crises é: 2300\n"
     ]
    },
    {
     "data": {
      "image/png": "[encoded data removed]",
      "text/plain": [
       "<Figure size 432x288 with 1 Axes>"
      ]
     },
     "metadata": {
      "needs_background": "light"
     },
     "output_type": "display_data"
    }
   ],
   "source": [
    "ax = sn.countplot(outcome,label=\"Count\")\n",
    "non_seizure, seizure = outcome.value_counts()\n",
    "print('O número de testes para a classe sem crises é:', non_seizure)\n",
    "print('O número de testes para a classe com crises é:', seizure)"
   ]
  },
  {
   "cell_type": "markdown",
   "metadata": {},
   "source": [
    "Pandas Indexation"
   ]
  },
  {
   "cell_type": "code",
   "execution_count": 12,
   "metadata": {},
   "outputs": [
    {
     "data": {
      "text/plain": [
       "(11500, 178)"
      ]
     },
     "execution_count": 12,
     "metadata": {},
     "output_type": "execute_result"
    }
   ],
   "source": [
    "X = df.iloc[:,1:179].values\n",
    "X.shape"
   ]
  },
  {
   "cell_type": "code",
   "execution_count": 13,
   "metadata": {},
   "outputs": [
    {
     "data": {
      "text/plain": [
       "array([0, 1, 0, ..., 0, 0, 0], dtype=int64)"
      ]
     },
     "execution_count": 13,
     "metadata": {},
     "output_type": "execute_result"
    }
   ],
   "source": [
    "y = df.iloc[:,179].values\n",
    "y"
   ]
  },
  {
   "cell_type": "markdown",
   "metadata": {},
   "source": [
    "# Feature election and model building"
   ]
  },
  {
   "cell_type": "markdown",
   "metadata": {},
   "source": [
    "   ## Splitting the dataset into the Training set and Test set"
   ]
  },
  {
   "cell_type": "code",
   "execution_count": 14,
   "metadata": {},
   "outputs": [],
   "source": [
    "#from sklearn.model_selection import train_test_split\n",
    "X_train, X_test, y_train, y_test = train_test_split(X, y, test_size = 0.1)\n",
    "kfold = StratifiedKFold(n_splits=10, random_state=1, shuffle=True)"
   ]
  },
  {
   "cell_type": "code",
   "execution_count": 15,
   "metadata": {},
   "outputs": [],
   "source": [
    "#Classificadores\n",
    "modelos = []\n",
    "modelos.append(('Logistic Regression', LogisticRegression(solver='liblinear', multi_class='ovr')))\n",
    "modelos.append(('Linear Discriminant Analysis', LinearDiscriminantAnalysis()))\n",
    "modelos.append(('K-Nearest Neighbors', KNeighborsClassifier()))\n",
    "modelos.append(('Classification and Regression Trees', DecisionTreeClassifier()))\n",
    "modelos.append(('Gaussian Naive Bayes', GaussianNB()))\n",
    "modelos.append(('Linear Support Vector Machines', svm.LinearSVC()))\n",
    "modelos.append(('Extra Trees Classifier',ExtraTreesClassifier()))"
   ]
  },
  {
   "cell_type": "code",
   "execution_count": 16,
   "metadata": {},
   "outputs": [
    {
     "name": "stdout",
     "output_type": "stream",
     "text": [
      "Logistic Regression: 0.823092 (0.004722)\n",
      "Linear Discriminant Analysis: 0.822609 (0.005503)\n",
      "K-Nearest Neighbors: 0.923865 (0.006747)\n",
      "Classification and Regression Trees: 0.936232 (0.005972)\n",
      "Gaussian Naive Bayes: 0.958261 (0.006593)\n",
      "Linear Support Vector Machines: 0.834493 (0.010161)\n",
      "Extra Trees Classifier: 0.972657 (0.004512)\n"
     ]
    }
   ],
   "source": [
    "resultados = []\n",
    "nomes = []\n",
    "for nome, modelo in modelos:\n",
    "\tresultado_validacao_cruzada = cross_val_score(modelo, X_train, y_train, cv=kfold, scoring='accuracy')\n",
    "\tresultados.append(resultado_validacao_cruzada)\n",
    "\tnomes.append(nome)\n",
    "\tprint('%s: %f (%f)' % (nome, resultado_validacao_cruzada.mean(), resultado_validacao_cruzada.std()))"
   ]
  },
  {
   "cell_type": "code",
   "execution_count": 17,
   "metadata": {},
   "outputs": [
    {
     "data": {
      "image/png": "[encoded data removed]",
      "text/plain": [
       "<Figure size 432x288 with 1 Axes>"
      ]
     },
     "metadata": {
      "needs_background": "light"
     },
     "output_type": "display_data"
    }
   ],
   "source": [
    "box1 = plt.boxplot(resultados)\n",
    "plt.title('Comparação de Algoritmos')\n",
    "plt.show()"
   ]
  },
  {
   "cell_type": "code",
   "execution_count": 18,
   "metadata": {},
   "outputs": [],
   "source": [
    "predicao = []\n",
    "for nome, modelo in modelos:\n",
    "    modelo.fit(X_train,y_train)\n",
    "    predicao.append(modelo.predict(X_test))"
   ]
  },
  {
   "cell_type": "code",
   "execution_count": 19,
   "metadata": {},
   "outputs": [
    {
     "name": "stdout",
     "output_type": "stream",
     "text": [
      "Logistic Regression\n",
      "0.8217391304347826\n",
      "[[918   2]\n",
      " [203  27]]\n",
      "              precision    recall  f1-score   support\n",
      "\n",
      "           0       0.82      1.00      0.90       920\n",
      "           1       0.93      0.12      0.21       230\n",
      "\n",
      "    accuracy                           0.82      1150\n",
      "   macro avg       0.87      0.56      0.55      1150\n",
      "weighted avg       0.84      0.82      0.76      1150\n",
      "\n",
      "Linear Discriminant Analysis\n",
      "0.8217391304347826\n",
      "[[918   2]\n",
      " [203  27]]\n",
      "              precision    recall  f1-score   support\n",
      "\n",
      "           0       0.82      1.00      0.90       920\n",
      "           1       0.93      0.12      0.21       230\n",
      "\n",
      "    accuracy                           0.82      1150\n",
      "   macro avg       0.87      0.56      0.55      1150\n",
      "weighted avg       0.84      0.82      0.76      1150\n",
      "\n",
      "K-Nearest Neighbors\n",
      "0.9295652173913044\n",
      "[[919   1]\n",
      " [ 80 150]]\n",
      "              precision    recall  f1-score   support\n",
      "\n",
      "           0       0.92      1.00      0.96       920\n",
      "           1       0.99      0.65      0.79       230\n",
      "\n",
      "    accuracy                           0.93      1150\n",
      "   macro avg       0.96      0.83      0.87      1150\n",
      "weighted avg       0.93      0.93      0.92      1150\n",
      "\n",
      "Classification and Regression Trees\n",
      "0.931304347826087\n",
      "[[880  40]\n",
      " [ 39 191]]\n",
      "              precision    recall  f1-score   support\n",
      "\n",
      "           0       0.96      0.96      0.96       920\n",
      "           1       0.83      0.83      0.83       230\n",
      "\n",
      "    accuracy                           0.93      1150\n",
      "   macro avg       0.89      0.89      0.89      1150\n",
      "weighted avg       0.93      0.93      0.93      1150\n",
      "\n",
      "Gaussian Naive Bayes\n",
      "0.9521739130434783\n",
      "[[891  29]\n",
      " [ 26 204]]\n",
      "              precision    recall  f1-score   support\n",
      "\n",
      "           0       0.97      0.97      0.97       920\n",
      "           1       0.88      0.89      0.88       230\n",
      "\n",
      "    accuracy                           0.95      1150\n",
      "   macro avg       0.92      0.93      0.93      1150\n",
      "weighted avg       0.95      0.95      0.95      1150\n",
      "\n",
      "Linear Support Vector Machines\n",
      "0.8417391304347827\n",
      "[[917   3]\n",
      " [179  51]]\n",
      "              precision    recall  f1-score   support\n",
      "\n",
      "           0       0.84      1.00      0.91       920\n",
      "           1       0.94      0.22      0.36       230\n",
      "\n",
      "    accuracy                           0.84      1150\n",
      "   macro avg       0.89      0.61      0.63      1150\n",
      "weighted avg       0.86      0.84      0.80      1150\n",
      "\n",
      "Extra Trees Classifier\n",
      "0.9756521739130435\n",
      "[[914   6]\n",
      " [ 22 208]]\n",
      "              precision    recall  f1-score   support\n",
      "\n",
      "           0       0.98      0.99      0.98       920\n",
      "           1       0.97      0.90      0.94       230\n",
      "\n",
      "    accuracy                           0.98      1150\n",
      "   macro avg       0.97      0.95      0.96      1150\n",
      "weighted avg       0.98      0.98      0.98      1150\n",
      "\n"
     ]
    }
   ],
   "source": [
    "for i in range(len(predicao)):\n",
    "    print(nomes[i])\n",
    "    print(accuracy_score(y_test,predicao[i]))\n",
    "    print(confusion_matrix(y_test,predicao[i]))\n",
    "    print(classification_report(y_test,predicao[i]))"
   ]
  },
  {
   "cell_type": "markdown",
   "metadata": {},
   "source": [
    "# Metodo com sklearn preprocessing"
   ]
  },
  {
   "cell_type": "code",
   "execution_count": 20,
   "metadata": {},
   "outputs": [],
   "source": [
    "from sklearn import preprocessing"
   ]
  },
  {
   "cell_type": "code",
   "execution_count": 21,
   "metadata": {},
   "outputs": [],
   "source": [
    "xteste = preprocessing.scale(X)"
   ]
  },
  {
   "cell_type": "code",
   "execution_count": 22,
   "metadata": {},
   "outputs": [],
   "source": [
    "X_train2, X_test2, y_train2, y_test2 = train_test_split(xteste, y, test_size = 0.1)\n",
    "kfold = StratifiedKFold(n_splits=10, random_state=1, shuffle=True)"
   ]
  },
  {
   "cell_type": "code",
   "execution_count": 23,
   "metadata": {},
   "outputs": [
    {
     "name": "stdout",
     "output_type": "stream",
     "text": [
      "Logistic Regression: 0.817391 (0.003319)\n",
      "Linear Discriminant Analysis: 0.821063 (0.004885)\n",
      "K-Nearest Neighbors: 0.923865 (0.008058)\n",
      "Classification and Regression Trees: 0.934106 (0.005729)\n",
      "Gaussian Naive Bayes: 0.957198 (0.004734)\n",
      "Linear Support Vector Machines: 0.817874 (0.004777)\n",
      "Extra Trees Classifier: 0.972464 (0.003723)\n"
     ]
    }
   ],
   "source": [
    "resultados2 = []\n",
    "nomes2 = []\n",
    "for nome, modelo in modelos:\n",
    "    resultado_validacao_cruzada = cross_val_score(modelo, X_train2, y_train2, cv=kfold, scoring='accuracy')\n",
    "    resultados2.append(resultado_validacao_cruzada)\n",
    "    nomes2.append(nome)\n",
    "    print('%s: %f (%f)' % (nome, resultado_validacao_cruzada.mean(), resultado_validacao_cruzada.std()))"
   ]
  },
  {
   "cell_type": "code",
   "execution_count": 24,
   "metadata": {},
   "outputs": [
    {
     "data": {
      "image/png": "[encoded data removed]",
      "text/plain": [
       "<Figure size 432x288 with 1 Axes>"
      ]
     },
     "metadata": {
      "needs_background": "light"
     },
     "output_type": "display_data"
    }
   ],
   "source": [
    "plt.boxplot(resultados2)\n",
    "plt.title('Comparação de Algoritmos')\n",
    "plt.show()"
   ]
  },
  {
   "cell_type": "code",
   "execution_count": 25,
   "metadata": {},
   "outputs": [],
   "source": [
    "predicao2 = []\n",
    "for nome, modelo in modelos:\n",
    "    modelo.fit(X_train2,y_train2)\n",
    "    predicao2.append(modelo.predict(X_test2))"
   ]
  },
  {
   "cell_type": "code",
   "execution_count": 26,
   "metadata": {},
   "outputs": [
    {
     "name": "stdout",
     "output_type": "stream",
     "text": [
      "Logistic Regression\n",
      "0.8156521739130435\n",
      "[[922   0]\n",
      " [212  16]]\n",
      "              precision    recall  f1-score   support\n",
      "\n",
      "           0       0.81      1.00      0.90       922\n",
      "           1       1.00      0.07      0.13       228\n",
      "\n",
      "    accuracy                           0.82      1150\n",
      "   macro avg       0.91      0.54      0.51      1150\n",
      "weighted avg       0.85      0.82      0.75      1150\n",
      "\n",
      "Linear Discriminant Analysis\n",
      "0.82\n",
      "[[920   2]\n",
      " [205  23]]\n",
      "              precision    recall  f1-score   support\n",
      "\n",
      "           0       0.82      1.00      0.90       922\n",
      "           1       0.92      0.10      0.18       228\n",
      "\n",
      "    accuracy                           0.82      1150\n",
      "   macro avg       0.87      0.55      0.54      1150\n",
      "weighted avg       0.84      0.82      0.76      1150\n",
      "\n",
      "K-Nearest Neighbors\n",
      "0.9234782608695652\n",
      "[[921   1]\n",
      " [ 87 141]]\n",
      "              precision    recall  f1-score   support\n",
      "\n",
      "           0       0.91      1.00      0.95       922\n",
      "           1       0.99      0.62      0.76       228\n",
      "\n",
      "    accuracy                           0.92      1150\n",
      "   macro avg       0.95      0.81      0.86      1150\n",
      "weighted avg       0.93      0.92      0.92      1150\n",
      "\n",
      "Classification and Regression Trees\n",
      "0.9408695652173913\n",
      "[[898  24]\n",
      " [ 44 184]]\n",
      "              precision    recall  f1-score   support\n",
      "\n",
      "           0       0.95      0.97      0.96       922\n",
      "           1       0.88      0.81      0.84       228\n",
      "\n",
      "    accuracy                           0.94      1150\n",
      "   macro avg       0.92      0.89      0.90      1150\n",
      "weighted avg       0.94      0.94      0.94      1150\n",
      "\n",
      "Gaussian Naive Bayes\n",
      "0.9591304347826087\n",
      "[[899  23]\n",
      " [ 24 204]]\n",
      "              precision    recall  f1-score   support\n",
      "\n",
      "           0       0.97      0.98      0.97       922\n",
      "           1       0.90      0.89      0.90       228\n",
      "\n",
      "    accuracy                           0.96      1150\n",
      "   macro avg       0.94      0.93      0.94      1150\n",
      "weighted avg       0.96      0.96      0.96      1150\n",
      "\n",
      "Linear Support Vector Machines\n",
      "0.8130434782608695\n",
      "[[922   0]\n",
      " [215  13]]\n",
      "              precision    recall  f1-score   support\n",
      "\n",
      "           0       0.81      1.00      0.90       922\n",
      "           1       1.00      0.06      0.11       228\n",
      "\n",
      "    accuracy                           0.81      1150\n",
      "   macro avg       0.91      0.53      0.50      1150\n",
      "weighted avg       0.85      0.81      0.74      1150\n",
      "\n",
      "Extra Trees Classifier\n",
      "0.971304347826087\n",
      "[[914   8]\n",
      " [ 25 203]]\n",
      "              precision    recall  f1-score   support\n",
      "\n",
      "           0       0.97      0.99      0.98       922\n",
      "           1       0.96      0.89      0.92       228\n",
      "\n",
      "    accuracy                           0.97      1150\n",
      "   macro avg       0.97      0.94      0.95      1150\n",
      "weighted avg       0.97      0.97      0.97      1150\n",
      "\n"
     ]
    }
   ],
   "source": [
    "for i in range(len(predicao2)):\n",
    "    print(nomes2[i])\n",
    "    print(accuracy_score(y_test2,predicao2[i]))\n",
    "    print(confusion_matrix(y_test2,predicao2[i]))\n",
    "    print(classification_report(y_test2,predicao2[i]))"
   ]
  },
  {
   "cell_type": "code",
   "execution_count": 27,
   "metadata": {},
   "outputs": [
    {
     "data": {
      "image/png": "[encoded data removed]",
      "text/plain": [
       "<Figure size 432x288 with 2 Axes>"
      ]
     },
     "metadata": {
      "needs_background": "light"
     },
     "output_type": "display_data"
    }
   ],
   "source": [
    "fig, (ax1,ax2) = plt.subplots(1, 2);\n",
    "ax1.boxplot(resultados);\n",
    "ax2.boxplot(resultados2);"
   ]
  },
  {
   "cell_type": "markdown",
   "metadata": {},
   "source": [
    "# Metodo SmoteTomek"
   ]
  },
  {
   "cell_type": "code",
   "execution_count": 28,
   "metadata": {},
   "outputs": [],
   "source": [
    "from imblearn.combine import SMOTETomek\n",
    "\n",
    "smt = SMOTETomek(sampling_strategy='auto')\n",
    "X_smt, y_smt = smt.fit_sample(X, y)\n"
   ]
  },
  {
   "cell_type": "code",
   "execution_count": 29,
   "metadata": {},
   "outputs": [],
   "source": [
    "X_train3, X_test3, y_train3, y_test3 = train_test_split(X_smt, y_smt, test_size = 0.1)\n",
    "kfold = StratifiedKFold(n_splits=10, random_state=1, shuffle=True)"
   ]
  },
  {
   "cell_type": "code",
   "execution_count": 30,
   "metadata": {},
   "outputs": [
    {
     "name": "stdout",
     "output_type": "stream",
     "text": [
      "Logistic Regression: 0.624879 (0.010385)\n",
      "Linear Discriminant Analysis: 0.626993 (0.010823)\n",
      "K-Nearest Neighbors: 0.987198 (0.001547)\n",
      "Classification and Regression Trees: 0.925060 (0.007908)\n",
      "Gaussian Naive Bayes: 0.898490 (0.008229)\n",
      "Linear Support Vector Machines: 0.631220 (0.016863)\n",
      "Extra Trees Classifier: 0.985085 (0.002340)\n"
     ]
    }
   ],
   "source": [
    "resultados3 = []\n",
    "nomes3 = []\n",
    "for nome, modelo in modelos:\n",
    "    resultado_validacao_cruzada = cross_val_score(modelo, X_train3, y_train3, cv=kfold, scoring='accuracy')\n",
    "    resultados3.append(resultado_validacao_cruzada)\n",
    "    nomes3.append(nome)\n",
    "    print('%s: %f (%f)' % (nome, resultado_validacao_cruzada.mean(), resultado_validacao_cruzada.std()))"
   ]
  },
  {
   "cell_type": "code",
   "execution_count": 31,
   "metadata": {},
   "outputs": [
    {
     "data": {
      "image/png": "[encoded data removed]",
      "text/plain": [
       "<Figure size 432x288 with 1 Axes>"
      ]
     },
     "metadata": {
      "needs_background": "light"
     },
     "output_type": "display_data"
    }
   ],
   "source": [
    "plt.boxplot(resultados3)\n",
    "plt.title('Comparação de Algoritmos')\n",
    "plt.show()"
   ]
  },
  {
   "cell_type": "code",
   "execution_count": 32,
   "metadata": {},
   "outputs": [],
   "source": [
    "predicao3 = []\n",
    "for nome, modelo in modelos:\n",
    "    modelo.fit(X_train3,y_train3)\n",
    "    predicao3.append(modelo.predict(X_test3))"
   ]
  },
  {
   "cell_type": "code",
   "execution_count": 33,
   "metadata": {},
   "outputs": [
    {
     "name": "stdout",
     "output_type": "stream",
     "text": [
      "Logistic Regression\n",
      "0.6179347826086956\n",
      "[[666 283]\n",
      " [420 471]]\n",
      "              precision    recall  f1-score   support\n",
      "\n",
      "           0       0.61      0.70      0.65       949\n",
      "           1       0.62      0.53      0.57       891\n",
      "\n",
      "    accuracy                           0.62      1840\n",
      "   macro avg       0.62      0.62      0.61      1840\n",
      "weighted avg       0.62      0.62      0.61      1840\n",
      "\n",
      "Linear Discriminant Analysis\n",
      "0.6201086956521739\n",
      "[[691 258]\n",
      " [441 450]]\n",
      "              precision    recall  f1-score   support\n",
      "\n",
      "           0       0.61      0.73      0.66       949\n",
      "           1       0.64      0.51      0.56       891\n",
      "\n",
      "    accuracy                           0.62      1840\n",
      "   macro avg       0.62      0.62      0.61      1840\n",
      "weighted avg       0.62      0.62      0.62      1840\n",
      "\n",
      "K-Nearest Neighbors\n",
      "0.9918478260869565\n",
      "[[945   4]\n",
      " [ 11 880]]\n",
      "              precision    recall  f1-score   support\n",
      "\n",
      "           0       0.99      1.00      0.99       949\n",
      "           1       1.00      0.99      0.99       891\n",
      "\n",
      "    accuracy                           0.99      1840\n",
      "   macro avg       0.99      0.99      0.99      1840\n",
      "weighted avg       0.99      0.99      0.99      1840\n",
      "\n",
      "Classification and Regression Trees\n",
      "0.9304347826086956\n",
      "[[876  73]\n",
      " [ 55 836]]\n",
      "              precision    recall  f1-score   support\n",
      "\n",
      "           0       0.94      0.92      0.93       949\n",
      "           1       0.92      0.94      0.93       891\n",
      "\n",
      "    accuracy                           0.93      1840\n",
      "   macro avg       0.93      0.93      0.93      1840\n",
      "weighted avg       0.93      0.93      0.93      1840\n",
      "\n",
      "Gaussian Naive Bayes\n",
      "0.9179347826086957\n",
      "[[930  19]\n",
      " [132 759]]\n",
      "              precision    recall  f1-score   support\n",
      "\n",
      "           0       0.88      0.98      0.92       949\n",
      "           1       0.98      0.85      0.91       891\n",
      "\n",
      "    accuracy                           0.92      1840\n",
      "   macro avg       0.93      0.92      0.92      1840\n",
      "weighted avg       0.92      0.92      0.92      1840\n",
      "\n",
      "Linear Support Vector Machines\n",
      "0.6353260869565217\n",
      "[[890  59]\n",
      " [612 279]]\n",
      "              precision    recall  f1-score   support\n",
      "\n",
      "           0       0.59      0.94      0.73       949\n",
      "           1       0.83      0.31      0.45       891\n",
      "\n",
      "    accuracy                           0.64      1840\n",
      "   macro avg       0.71      0.63      0.59      1840\n",
      "weighted avg       0.71      0.64      0.59      1840\n",
      "\n",
      "Extra Trees Classifier\n",
      "0.9907608695652174\n",
      "[[940   9]\n",
      " [  8 883]]\n",
      "              precision    recall  f1-score   support\n",
      "\n",
      "           0       0.99      0.99      0.99       949\n",
      "           1       0.99      0.99      0.99       891\n",
      "\n",
      "    accuracy                           0.99      1840\n",
      "   macro avg       0.99      0.99      0.99      1840\n",
      "weighted avg       0.99      0.99      0.99      1840\n",
      "\n"
     ]
    }
   ],
   "source": [
    "for i in range(len(predicao3)):\n",
    "    print(nomes3[i])\n",
    "    print(accuracy_score(y_test3,predicao3[i]))\n",
    "    print(confusion_matrix(y_test3,predicao3[i]))\n",
    "    print(classification_report(y_test3,predicao3[i]))"
   ]
  },
  {
   "cell_type": "markdown",
   "metadata": {},
   "source": [
    "Aplicação Metodo no dataset original"
   ]
  },
  {
   "cell_type": "code",
   "execution_count": 34,
   "metadata": {},
   "outputs": [],
   "source": [
    "predicao4 = []\n",
    "for nome, modelo in modelos:\n",
    "    modelo.fit(X_train3,y_train3)\n",
    "    predicao4.append(modelo.predict(X_test))"
   ]
  },
  {
   "cell_type": "code",
   "execution_count": 35,
   "metadata": {},
   "outputs": [
    {
     "name": "stdout",
     "output_type": "stream",
     "text": [
      "Logistic Regression\n",
      "0.697391304347826\n",
      "[[677 243]\n",
      " [105 125]]\n",
      "              precision    recall  f1-score   support\n",
      "\n",
      "           0       0.87      0.74      0.80       920\n",
      "           1       0.34      0.54      0.42       230\n",
      "\n",
      "    accuracy                           0.70      1150\n",
      "   macro avg       0.60      0.64      0.61      1150\n",
      "weighted avg       0.76      0.70      0.72      1150\n",
      "\n",
      "Linear Discriminant Analysis\n",
      "0.7139130434782609\n",
      "[[699 221]\n",
      " [108 122]]\n",
      "              precision    recall  f1-score   support\n",
      "\n",
      "           0       0.87      0.76      0.81       920\n",
      "           1       0.36      0.53      0.43       230\n",
      "\n",
      "    accuracy                           0.71      1150\n",
      "   macro avg       0.61      0.65      0.62      1150\n",
      "weighted avg       0.76      0.71      0.73      1150\n",
      "\n",
      "K-Nearest Neighbors\n",
      "0.9939130434782608\n",
      "[[914   6]\n",
      " [  1 229]]\n",
      "              precision    recall  f1-score   support\n",
      "\n",
      "           0       1.00      0.99      1.00       920\n",
      "           1       0.97      1.00      0.98       230\n",
      "\n",
      "    accuracy                           0.99      1150\n",
      "   macro avg       0.99      0.99      0.99      1150\n",
      "weighted avg       0.99      0.99      0.99      1150\n",
      "\n",
      "Classification and Regression Trees\n",
      "0.9947826086956522\n",
      "[[915   5]\n",
      " [  1 229]]\n",
      "              precision    recall  f1-score   support\n",
      "\n",
      "           0       1.00      0.99      1.00       920\n",
      "           1       0.98      1.00      0.99       230\n",
      "\n",
      "    accuracy                           0.99      1150\n",
      "   macro avg       0.99      1.00      0.99      1150\n",
      "weighted avg       0.99      0.99      0.99      1150\n",
      "\n",
      "Gaussian Naive Bayes\n",
      "0.9556521739130435\n",
      "[[887  33]\n",
      " [ 18 212]]\n",
      "              precision    recall  f1-score   support\n",
      "\n",
      "           0       0.98      0.96      0.97       920\n",
      "           1       0.87      0.92      0.89       230\n",
      "\n",
      "    accuracy                           0.96      1150\n",
      "   macro avg       0.92      0.94      0.93      1150\n",
      "weighted avg       0.96      0.96      0.96      1150\n",
      "\n",
      "Linear Support Vector Machines\n",
      "0.8408695652173913\n",
      "[[878  42]\n",
      " [141  89]]\n",
      "              precision    recall  f1-score   support\n",
      "\n",
      "           0       0.86      0.95      0.91       920\n",
      "           1       0.68      0.39      0.49       230\n",
      "\n",
      "    accuracy                           0.84      1150\n",
      "   macro avg       0.77      0.67      0.70      1150\n",
      "weighted avg       0.83      0.84      0.82      1150\n",
      "\n",
      "Extra Trees Classifier\n",
      "0.9982608695652174\n",
      "[[918   2]\n",
      " [  0 230]]\n",
      "              precision    recall  f1-score   support\n",
      "\n",
      "           0       1.00      1.00      1.00       920\n",
      "           1       0.99      1.00      1.00       230\n",
      "\n",
      "    accuracy                           1.00      1150\n",
      "   macro avg       1.00      1.00      1.00      1150\n",
      "weighted avg       1.00      1.00      1.00      1150\n",
      "\n"
     ]
    }
   ],
   "source": [
    "for i in range(len(predicao4)):\n",
    "    print(nomes3[i])\n",
    "    print(accuracy_score(y_test,predicao4[i]))\n",
    "    print(confusion_matrix(y_test,predicao4[i]))\n",
    "    print(classification_report(y_test,predicao4[i]))"
   ]
  },
  {
   "cell_type": "code",
   "execution_count": 36,
   "metadata": {},
   "outputs": [
    {
     "name": "stdout",
     "output_type": "stream",
     "text": [
      "Confusion matrix:\n",
      " [[918   2]\n",
      " [  0 230]]\n"
     ]
    },
    {
     "data": {
      "image/png": "[encoded data removed]",
      "text/plain": [
       "<Figure size 432x288 with 2 Axes>"
      ]
     },
     "metadata": {
      "needs_background": "light"
     },
     "output_type": "display_data"
    }
   ],
   "source": [
    "conf_mat = confusion_matrix(y_test,predicao4[i])\n",
    "print('Confusion matrix:\\n', conf_mat)\n",
    "\n",
    "labels = ['Class 0', 'Class 1']\n",
    "fig = plt.figure()\n",
    "ax = fig.add_subplot(111)\n",
    "cax = ax.matshow(conf_mat, cmap=plt.cm.Blues)\n",
    "fig.colorbar(cax)\n",
    "ax.set_xticklabels([''] + labels)\n",
    "ax.set_yticklabels([''] + labels)\n",
    "plt.xlabel('Predicted')\n",
    "plt.ylabel('Expected')\n",
    "plt.show()"
   ]
  },
  {
   "cell_type": "code",
   "execution_count": 37,
   "metadata": {},
   "outputs": [],
   "source": [
    "def plot_2d_space(X, y, label='Classes'):   \n",
    "    colors = ['#1F77B4', '#FF7F0E']\n",
    "    markers = ['o', 's']\n",
    "    for l, c, m in zip(np.unique(y), colors, markers):\n",
    "        plt.scatter(\n",
    "            X[y==l, 0],\n",
    "            X[y==l, 1],\n",
    "            c=c, label=l, marker=m\n",
    "        )\n",
    "    plt.title(label)\n",
    "    plt.legend(loc='upper right')\n",
    "    plt.show()"
   ]
  },
  {
   "cell_type": "markdown",
   "metadata": {},
   "source": [
    "# Metodo RandomUnderSampler"
   ]
  },
  {
   "cell_type": "code",
   "execution_count": 39,
   "metadata": {},
   "outputs": [
    {
     "data": {
      "image/png": "[encoded data removed]",
      "text/plain": [
       "<Figure size 432x288 with 1 Axes>"
      ]
     },
     "metadata": {
      "needs_background": "light"
     },
     "output_type": "display_data"
    }
   ],
   "source": [
    "from imblearn.under_sampling import RandomUnderSampler\n",
    "\n",
    "rus = RandomUnderSampler(sampling_strategy='majority')\n",
    "\n",
    "X_rus, y_rus = rus.fit_sample(X, y)\n",
    "\n",
    "plot_2d_space(X_rus, y_rus, 'Random under-sampling')"
   ]
  },
  {
   "cell_type": "code",
   "execution_count": 40,
   "metadata": {},
   "outputs": [
    {
     "name": "stdout",
     "output_type": "stream",
     "text": [
      "The number of trials for the non-seizure class is: 2300\n",
      "The number of trials for the seizure class is: 2300\n"
     ]
    },
    {
     "data": {
      "image/png": "[encoded data removed]",
      "text/plain": [
       "<Figure size 432x288 with 1 Axes>"
      ]
     },
     "metadata": {
      "needs_background": "light"
     },
     "output_type": "display_data"
    }
   ],
   "source": [
    "axn = sn.countplot(y_rus,label=\"Count\")\n",
    "non_seizure = list(y_rus).count(0)\n",
    "seizure = list(y_rus).count(1)\n",
    "print('The number of trials for the non-seizure class is:', non_seizure)\n",
    "print('The number of trials for the seizure class is:', seizure)"
   ]
  },
  {
   "cell_type": "code",
   "execution_count": 43,
   "metadata": {},
   "outputs": [],
   "source": [
    "X_train5, X_test5, y_train5, y_test5 = train_test_split(X_rus, y_rus, test_size = 0.1)\n",
    "kfold = StratifiedKFold(n_splits=10, random_state=1, shuffle=True)"
   ]
  },
  {
   "cell_type": "code",
   "execution_count": 44,
   "metadata": {},
   "outputs": [
    {
     "name": "stdout",
     "output_type": "stream",
     "text": [
      "Logistic Regression: 0.575362 (0.018641)\n",
      "Linear Discriminant Analysis: 0.579469 (0.011707)\n",
      "K-Nearest Neighbors: 0.854831 (0.012938)\n",
      "Classification and Regression Trees: 0.893720 (0.013578)\n",
      "Gaussian Naive Bayes: 0.931643 (0.005922)\n",
      "Linear Support Vector Machines: 0.637440 (0.012479)\n",
      "Extra Trees Classifier: 0.967391 (0.008792)\n"
     ]
    }
   ],
   "source": [
    "resultados5 = []\n",
    "nomes5 = []\n",
    "for nome, modelo in modelos:\n",
    "    resultado_validacao_cruzada = cross_val_score(modelo, X_train5, y_train5, cv=kfold, scoring='accuracy')\n",
    "    resultados5.append(resultado_validacao_cruzada)\n",
    "    nomes5.append(nome)\n",
    "    print('%s: %f (%f)' % (nome, resultado_validacao_cruzada.mean(), resultado_validacao_cruzada.std()))"
   ]
  },
  {
   "cell_type": "code",
   "execution_count": 45,
   "metadata": {},
   "outputs": [],
   "source": [
    "predicao5 = []\n",
    "for nome, modelo in modelos:\n",
    "    modelo.fit(X_train5,y_train5)\n",
    "    predicao5.append(modelo.predict(X_test5))"
   ]
  },
  {
   "cell_type": "code",
   "execution_count": 46,
   "metadata": {},
   "outputs": [
    {
     "name": "stdout",
     "output_type": "stream",
     "text": [
      "Logistic Regression\n",
      "0.6086956521739131\n",
      "[[162  61]\n",
      " [119 118]]\n",
      "              precision    recall  f1-score   support\n",
      "\n",
      "           0       0.58      0.73      0.64       223\n",
      "           1       0.66      0.50      0.57       237\n",
      "\n",
      "    accuracy                           0.61       460\n",
      "   macro avg       0.62      0.61      0.61       460\n",
      "weighted avg       0.62      0.61      0.60       460\n",
      "\n",
      "Linear Discriminant Analysis\n",
      "0.6130434782608696\n",
      "[[170  53]\n",
      " [125 112]]\n",
      "              precision    recall  f1-score   support\n",
      "\n",
      "           0       0.58      0.76      0.66       223\n",
      "           1       0.68      0.47      0.56       237\n",
      "\n",
      "    accuracy                           0.61       460\n",
      "   macro avg       0.63      0.62      0.61       460\n",
      "weighted avg       0.63      0.61      0.61       460\n",
      "\n",
      "K-Nearest Neighbors\n",
      "0.8717391304347826\n",
      "[[223   0]\n",
      " [ 59 178]]\n",
      "              precision    recall  f1-score   support\n",
      "\n",
      "           0       0.79      1.00      0.88       223\n",
      "           1       1.00      0.75      0.86       237\n",
      "\n",
      "    accuracy                           0.87       460\n",
      "   macro avg       0.90      0.88      0.87       460\n",
      "weighted avg       0.90      0.87      0.87       460\n",
      "\n",
      "Classification and Regression Trees\n",
      "0.9130434782608695\n",
      "[[205  18]\n",
      " [ 22 215]]\n",
      "              precision    recall  f1-score   support\n",
      "\n",
      "           0       0.90      0.92      0.91       223\n",
      "           1       0.92      0.91      0.91       237\n",
      "\n",
      "    accuracy                           0.91       460\n",
      "   macro avg       0.91      0.91      0.91       460\n",
      "weighted avg       0.91      0.91      0.91       460\n",
      "\n",
      "Gaussian Naive Bayes\n",
      "0.9304347826086956\n",
      "[[214   9]\n",
      " [ 23 214]]\n",
      "              precision    recall  f1-score   support\n",
      "\n",
      "           0       0.90      0.96      0.93       223\n",
      "           1       0.96      0.90      0.93       237\n",
      "\n",
      "    accuracy                           0.93       460\n",
      "   macro avg       0.93      0.93      0.93       460\n",
      "weighted avg       0.93      0.93      0.93       460\n",
      "\n",
      "Linear Support Vector Machines\n",
      "0.6152173913043478\n",
      "[[212  11]\n",
      " [166  71]]\n",
      "              precision    recall  f1-score   support\n",
      "\n",
      "           0       0.56      0.95      0.71       223\n",
      "           1       0.87      0.30      0.45       237\n",
      "\n",
      "    accuracy                           0.62       460\n",
      "   macro avg       0.71      0.63      0.58       460\n",
      "weighted avg       0.72      0.62      0.57       460\n",
      "\n",
      "Extra Trees Classifier\n",
      "0.967391304347826\n",
      "[[213  10]\n",
      " [  5 232]]\n",
      "              precision    recall  f1-score   support\n",
      "\n",
      "           0       0.98      0.96      0.97       223\n",
      "           1       0.96      0.98      0.97       237\n",
      "\n",
      "    accuracy                           0.97       460\n",
      "   macro avg       0.97      0.97      0.97       460\n",
      "weighted avg       0.97      0.97      0.97       460\n",
      "\n"
     ]
    }
   ],
   "source": [
    "for i in range(len(predicao5)):\n",
    "    print(nomes5[i])\n",
    "    print(accuracy_score(y_test5,predicao5[i]))\n",
    "    print(confusion_matrix(y_test5,predicao5[i]))\n",
    "    print(classification_report(y_test5,predicao5[i]))"
   ]
  },
  {
   "cell_type": "markdown",
   "metadata": {},
   "source": [
    "# Metodo Tomeklink"
   ]
  },
  {
   "cell_type": "code",
   "execution_count": 42,
   "metadata": {},
   "outputs": [
    {
     "data": {
      "image/png": "[encoded data removed]",
      "text/plain": [
       "<Figure size 432x288 with 1 Axes>"
      ]
     },
     "metadata": {
      "needs_background": "light"
     },
     "output_type": "display_data"
    }
   ],
   "source": [
    "from matplotlib import pyplot as plt\n",
    "from imblearn.under_sampling import TomekLinks\n",
    "\n",
    "tl = TomekLinks(sampling_strategy='auto')\n",
    "X_tl, y_tl = tl.fit_sample(X, y)\n",
    "\n",
    "plot_2d_space(X_tl,y_tl, 'Tomek links under-sampling')"
   ]
  },
  {
   "cell_type": "code",
   "execution_count": 47,
   "metadata": {},
   "outputs": [],
   "source": [
    "X_train6, X_test6, y_train6, y_test6 = train_test_split(X_tl, y_tl, test_size = 0.1)\n",
    "kfold = StratifiedKFold(n_splits=10, random_state=1, shuffle=True)"
   ]
  },
  {
   "cell_type": "code",
   "execution_count": 48,
   "metadata": {},
   "outputs": [
    {
     "name": "stdout",
     "output_type": "stream",
     "text": [
      "Logistic Regression: 0.823847 (0.003220)\n",
      "Linear Discriminant Analysis: 0.821335 (0.003545)\n",
      "K-Nearest Neighbors: 0.923664 (0.005598)\n",
      "Classification and Regression Trees: 0.939802 (0.007915)\n",
      "Gaussian Naive Bayes: 0.956615 (0.007373)\n",
      "Linear Support Vector Machines: 0.838824 (0.005621)\n",
      "Extra Trees Classifier: 0.972655 (0.005308)\n"
     ]
    }
   ],
   "source": [
    "resultados6 = []\n",
    "nomes6 = []\n",
    "for nome, modelo in modelos:\n",
    "    resultado_validacao_cruzada = cross_val_score(modelo, X_train6, y_train6, cv=kfold, scoring='accuracy')\n",
    "    resultados6.append(resultado_validacao_cruzada)\n",
    "    nomes6.append(nome)\n",
    "    print('%s: %f (%f)' % (nome, resultado_validacao_cruzada.mean(), resultado_validacao_cruzada.std()))"
   ]
  },
  {
   "cell_type": "code",
   "execution_count": 49,
   "metadata": {},
   "outputs": [],
   "source": [
    "predicao6 = []\n",
    "for nome, modelo in modelos:\n",
    "    modelo.fit(X_train6,y_train6)\n",
    "    predicao6.append(modelo.predict(X_test6))"
   ]
  },
  {
   "cell_type": "code",
   "execution_count": 50,
   "metadata": {},
   "outputs": [
    {
     "name": "stdout",
     "output_type": "stream",
     "text": [
      "Logistic Regression\n",
      "0.8269565217391305\n",
      "[[922   5]\n",
      " [194  29]]\n",
      "              precision    recall  f1-score   support\n",
      "\n",
      "           0       0.83      0.99      0.90       927\n",
      "           1       0.85      0.13      0.23       223\n",
      "\n",
      "    accuracy                           0.83      1150\n",
      "   macro avg       0.84      0.56      0.56      1150\n",
      "weighted avg       0.83      0.83      0.77      1150\n",
      "\n",
      "Linear Discriminant Analysis\n",
      "0.8260869565217391\n",
      "[[925   2]\n",
      " [198  25]]\n",
      "              precision    recall  f1-score   support\n",
      "\n",
      "           0       0.82      1.00      0.90       927\n",
      "           1       0.93      0.11      0.20       223\n",
      "\n",
      "    accuracy                           0.83      1150\n",
      "   macro avg       0.87      0.55      0.55      1150\n",
      "weighted avg       0.84      0.83      0.77      1150\n",
      "\n",
      "K-Nearest Neighbors\n",
      "0.9321739130434783\n",
      "[[926   1]\n",
      " [ 77 146]]\n",
      "              precision    recall  f1-score   support\n",
      "\n",
      "           0       0.92      1.00      0.96       927\n",
      "           1       0.99      0.65      0.79       223\n",
      "\n",
      "    accuracy                           0.93      1150\n",
      "   macro avg       0.96      0.83      0.87      1150\n",
      "weighted avg       0.94      0.93      0.93      1150\n",
      "\n",
      "Classification and Regression Trees\n",
      "0.9434782608695652\n",
      "[[896  31]\n",
      " [ 34 189]]\n",
      "              precision    recall  f1-score   support\n",
      "\n",
      "           0       0.96      0.97      0.96       927\n",
      "           1       0.86      0.85      0.85       223\n",
      "\n",
      "    accuracy                           0.94      1150\n",
      "   macro avg       0.91      0.91      0.91      1150\n",
      "weighted avg       0.94      0.94      0.94      1150\n",
      "\n",
      "Gaussian Naive Bayes\n",
      "0.9626086956521739\n",
      "[[902  25]\n",
      " [ 18 205]]\n",
      "              precision    recall  f1-score   support\n",
      "\n",
      "           0       0.98      0.97      0.98       927\n",
      "           1       0.89      0.92      0.91       223\n",
      "\n",
      "    accuracy                           0.96      1150\n",
      "   macro avg       0.94      0.95      0.94      1150\n",
      "weighted avg       0.96      0.96      0.96      1150\n",
      "\n",
      "Linear Support Vector Machines\n",
      "0.8504347826086956\n",
      "[[927   0]\n",
      " [172  51]]\n",
      "              precision    recall  f1-score   support\n",
      "\n",
      "           0       0.84      1.00      0.92       927\n",
      "           1       1.00      0.23      0.37       223\n",
      "\n",
      "    accuracy                           0.85      1150\n",
      "   macro avg       0.92      0.61      0.64      1150\n",
      "weighted avg       0.87      0.85      0.81      1150\n",
      "\n",
      "Extra Trees Classifier\n",
      "0.9739130434782609\n",
      "[[915  12]\n",
      " [ 18 205]]\n",
      "              precision    recall  f1-score   support\n",
      "\n",
      "           0       0.98      0.99      0.98       927\n",
      "           1       0.94      0.92      0.93       223\n",
      "\n",
      "    accuracy                           0.97      1150\n",
      "   macro avg       0.96      0.95      0.96      1150\n",
      "weighted avg       0.97      0.97      0.97      1150\n",
      "\n"
     ]
    }
   ],
   "source": [
    "for i in range(len(predicao6)):\n",
    "    print(nomes6[i])\n",
    "    print(accuracy_score(y_test6,predicao6[i]))\n",
    "    print(confusion_matrix(y_test6,predicao6[i]))\n",
    "    print(classification_report(y_test6,predicao6[i]))"
   ]
  },
  {
   "cell_type": "markdown",
   "metadata": {},
   "source": [
    "# Predição final"
   ]
  },
  {
   "cell_type": "code",
   "execution_count": 56,
   "metadata": {},
   "outputs": [
    {
     "name": "stdout",
     "output_type": "stream",
     "text": [
      "0.9792173913043478\n",
      "[[8970  230]\n",
      " [   9 2291]]\n",
      "              precision    recall  f1-score   support\n",
      "\n",
      "           0       1.00      0.97      0.99      9200\n",
      "           1       0.91      1.00      0.95      2300\n",
      "\n",
      "    accuracy                           0.98     11500\n",
      "   macro avg       0.95      0.99      0.97     11500\n",
      "weighted avg       0.98      0.98      0.98     11500\n",
      "\n"
     ]
    }
   ],
   "source": [
    "modelofinal = ExtraTreesClassifier().fit(X_train3,y_train3)\n",
    "predicaofinal = modelofinal.predict(X)\n",
    "print(accuracy_score(y,predicaofinal))\n",
    "print(confusion_matrix(y,predicaofinal))\n",
    "print(classification_report(y,predicaofinal))"
   ]
  },
  {
   "cell_type": "code",
   "execution_count": 57,
   "metadata": {},
   "outputs": [
    {
     "name": "stdout",
     "output_type": "stream",
     "text": [
      "Confusion matrix:\n",
      " [[8970  230]\n",
      " [   9 2291]]\n"
     ]
    },
    {
     "data": {
      "image/png": "[encoded data removed]",
      "text/plain": [
       "<Figure size 432x288 with 2 Axes>"
      ]
     },
     "metadata": {
      "needs_background": "light"
     },
     "output_type": "display_data"
    }
   ],
   "source": [
    "conf_mat = confusion_matrix(y,predicaofinal)\n",
    "print('Confusion matrix:\\n', conf_mat)\n",
    "\n",
    "labels = ['Class 0', 'Class 1']\n",
    "fig = plt.figure()\n",
    "ax = fig.add_subplot(111)\n",
    "cax = ax.matshow(conf_mat, cmap=plt.cm.Blues)\n",
    "fig.colorbar(cax)\n",
    "ax.set_xticklabels([''] + labels)\n",
    "ax.set_yticklabels([''] + labels)\n",
    "plt.xlabel('Predicted')\n",
    "plt.ylabel('Expected')\n",
    "plt.show()"
   ]
  },
  {
   "cell_type": "code",
   "execution_count": null,
   "metadata": {},
   "outputs": [],
   "source": []
  }
 ],
 "metadata": {
  "kernelspec": {
   "display_name": "Python 3",
   "language": "python",
   "name": "python3"
  },
  "language_info": {
   "codemirror_mode": {
    "name": "ipython",
    "version": 3
   },
   "file_extension": ".py",
   "mimetype": "text/x-python",
   "name": "python",
   "nbconvert_exporter": "python",
   "pygments_lexer": "ipython3",
   "version": "3.7.0"
  }
 },
 "nbformat": 4,
 "nbformat_minor": 4
}
